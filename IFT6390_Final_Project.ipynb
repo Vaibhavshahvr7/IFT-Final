{
 "cells": [
  {
   "cell_type": "markdown",
   "metadata": {
    "id": "7UmUHbiGiEMW"
   },
   "source": [
    "# IFT6390: Final Project\n",
    "\n",
    "The final project pertains to the problem of finding novel [antimicrobial peptides](https://en.wikipedia.org/wiki/Antimicrobial_peptides) (AMP) which may turn out to be key in the fight against antibiotics resistance. The World Health Organization qualifies antibiotic resistance as one of the [''biggest threats to global health, food security, and development today''](https://www.who.int/news-room/fact-sheets/detail/antibiotic-resistance).\n",
    "\n",
    "Given the limited time frame of this project, I have scoped down the problems to two main tracks:\n",
    "\n",
    "1. **Classification**: classifying protein sequences as AMP or non-AMP: a binary classification problem\n",
    "\n",
    "    1.1 You are allowed to use Scikit-learn. You need to provide the following baselines: Random Forest, SVM, Neural Network. Use TF-IDF as a baseline feature extractor (you can use sklearn) for each of those.  \n",
    "2. **Generation**: Given a corpus of AMP sequences, learn a character-level language model. You should implement a baseline using a Markov model. Then implement a sequential model using an RNN or LSTM. \n",
    "\n",
    "You should pick one of the two options. Choose your own adventure. You can work in teams of **three people max**.\n",
    "\n",
    "---\n",
    "Le projet final a trait au problème de découverte de [peptides antimicrobien](https://fr.wikipedia.org/wiki/Peptide_antimicrobien) qui pourraient s'avérer utile dans la bataille contre la résistance antibiotique. L'Organisation mondiale de la Santé estime que la résistance antibiotique est l'une des plus [grande menace à la santé globale, la sécurité alimentaire ainsi que le dévelopment de nos jours](https://www.who.int/news-room/fact-sheets/detail/antibiotic-resistance).\n",
    "\n",
    "Étant donnée la durée limitée de ce projet, j'ai établi les deux directions de recherche suivantes: \n",
    "\n",
    "1. **Classification**: classifier les séquence de peptides antimicrobiens (AMPS) et non-antimicrobiens (non-AMP).\n",
    "\n",
    "  1.1 Vous pouvez utiliser Scikit-learn. Vous devez toutefois fournir des points de comparaisons avec les algorithmes suivants: forêts aléatoires (random forest), SVM, réseaux de neurones. De plus, utilisez TF-IDF (scikit-learn) pour transformer les séquences de textes en vecteurs de charactéristiques.\n",
    "\n",
    "2.**Modèle génératif**: étant donné un ensemble de séquences d'AMPs, apprendre un modèle de langage au niveaux des charactères. Vous devez également implémenter un modèle Markoviens pour fins de comparaison. Implémentez ensuite le modèle génératif avec un RNN ou un LSTM (voir démo de Viet). \n",
    "\n",
    "Vous devez choisir une des deux options. Vous pouvez travailler en équipe de trois personnes maximum. \n",
    "\n",
    "\n",
    "\n",
    "\n",
    "\n"
   ]
  },
  {
   "cell_type": "markdown",
   "metadata": {
    "id": "UYGrjhhbiRiF"
   },
   "source": [
    "# Dataset\n",
    "\n",
    "The dataset in this project comes from two open source projects: amPEPpy and AMPlify. \n",
    "\n",
    "---\n",
    "\n",
    "L'ensemble de données provient des projets amPEPpy et AMPlify. "
   ]
  },
  {
   "cell_type": "code",
   "execution_count": 1,
   "metadata": {
    "colab": {
     "base_uri": "https://localhost:8080/"
    },
    "id": "tktJPs8MhLOr",
    "outputId": "dd79e8a9-0392-450f-90e0-9d1480181e14"
   },
   "outputs": [
    {
     "name": "stdout",
     "output_type": "stream",
     "text": [
      "Requirement already satisfied: biopython in c:\\users\\vaibh\\anaconda3\\lib\\site-packages (1.78)\n",
      "Requirement already satisfied: numpy in c:\\users\\vaibh\\anaconda3\\lib\\site-packages (from biopython) (1.19.2)\n"
     ]
    },
    {
     "name": "stderr",
     "output_type": "stream",
     "text": [
      "'wget' is not recognized as an internal or external command,\n",
      "operable program or batch file.\n",
      "'wget' is not recognized as an internal or external command,\n",
      "operable program or batch file.\n",
      "'wget' is not recognized as an internal or external command,\n",
      "operable program or batch file.\n",
      "'wget' is not recognized as an internal or external command,\n",
      "operable program or batch file.\n"
     ]
    }
   ],
   "source": [
    "import wget\n",
    "!pip install biopython\n",
    "!wget https://raw.githubusercontent.com/bcgsc/AMPlify/master/data/AMP_20190407.fa\n",
    "!wget https://raw.githubusercontent.com/bcgsc/AMPlify/master/data/non_AMP_20190413.fa\n",
    "!wget https://raw.githubusercontent.com/tlawrence3/amPEPpy/master/training_data/M_model_train_AMP_sequence.numbered.fasta\n",
    "!wget https://raw.githubusercontent.com/tlawrence3/amPEPpy/master/training_data/M_model_train_nonAMP_sequence.numbered.fasta"
   ]
  },
  {
   "cell_type": "code",
   "execution_count": 2,
   "metadata": {
    "id": "HQgO-_AxhaKS"
   },
   "outputs": [],
   "source": [
    "from Bio import SeqIO\n",
    "import matplotlib.pyplot as plt"
   ]
  },
  {
   "cell_type": "code",
   "execution_count": 3,
   "metadata": {
    "id": "svHX_fr4hPQg"
   },
   "outputs": [],
   "source": [
    "def fasta_to_str_set(name):\n",
    "  return {str(rec.seq) for rec in SeqIO.parse(name, 'fasta')}"
   ]
  },
  {
   "cell_type": "code",
   "execution_count": 4,
   "metadata": {
    "id": "due0S5wYhQ-5"
   },
   "outputs": [],
   "source": [
    "positive_examples = fasta_to_str_set('AMP_20190407.fa').union(fasta_to_str_set('M_model_train_AMP_sequence.numbered.fasta'))\n",
    "negative_examples = fasta_to_str_set('non_AMP_20190413.fa').union(fasta_to_str_set('M_model_train_nonAMP_sequence.numbered.fasta'))"
   ]
  },
  {
   "cell_type": "markdown",
   "metadata": {
    "id": "0cfO3VqZikeU"
   },
   "source": [
    "Once we have merged the two data sources, the positive class has:\n",
    "\n",
    "---\n",
    "\n",
    "Une fois les sources de données combinées, la classe positive a:"
   ]
  },
  {
   "cell_type": "code",
   "execution_count": 5,
   "metadata": {
    "colab": {
     "base_uri": "https://localhost:8080/"
    },
    "id": "nMv1E41mhrLB",
    "outputId": "e6ee9694-a484-4c61-e98a-b81071823bb4"
   },
   "outputs": [
    {
     "name": "stdout",
     "output_type": "stream",
     "text": [
      "5264 examples\n"
     ]
    }
   ],
   "source": [
    "print(f\"{len(positive_examples)} examples\")"
   ]
  },
  {
   "cell_type": "markdown",
   "metadata": {
    "id": "XMvOwI8cjAAK"
   },
   "source": [
    "and the negative class (non-AMPs) has:"
   ]
  },
  {
   "cell_type": "code",
   "execution_count": 6,
   "metadata": {
    "colab": {
     "base_uri": "https://localhost:8080/"
    },
    "id": "chlRMLqli5uE",
    "outputId": "87d533f1-e986-4c9f-9593-33320afeacc4"
   },
   "outputs": [
    {
     "name": "stdout",
     "output_type": "stream",
     "text": [
      "167732 examples\n"
     ]
    }
   ],
   "source": [
    "print(f\"{len(negative_examples)} examples\")"
   ]
  },
  {
   "cell_type": "markdown",
   "metadata": {
    "id": "WwJd8DiSjyHv"
   },
   "source": [
    "We have way more non-AMPs than AMP. This will be a challenge. Furthermore, the distribution of the sequence lengths varies a lot between the two classes. You should probably do something about this.\n",
    "\n",
    "---\n",
    "\n",
    "Nous avons également beaucoup plus de non-AMPs que d'AMPs. C'est là le défi. De plus, la distribution de la longeur des séquences varie beaucoup entre les deux classes. Vous devrez tenter de palier à ce problème. "
   ]
  },
  {
   "cell_type": "code",
   "execution_count": 7,
   "metadata": {
    "colab": {
     "base_uri": "https://localhost:8080/",
     "height": 298
    },
    "id": "eL4FBivbjDc4",
    "outputId": "32a1ba8e-1b73-48bd-d10c-2f1a8d320b5d"
   },
   "outputs": [
    {
     "data": {
      "text/plain": [
       "Text(0.5, 1.0, 'Negative Sequence Lengths')"
      ]
     },
     "execution_count": 7,
     "metadata": {},
     "output_type": "execute_result"
    },
    {
     "data": {
      "image/png": "[encoded data removed]",
      "text/plain": [
       "<Figure size 432x288 with 2 Axes>"
      ]
     },
     "metadata": {
      "needs_background": "light"
     },
     "output_type": "display_data"
    }
   ],
   "source": [
    "fig, axes = plt.subplots(1,2)\n",
    "axes[0].hist([len(seq) for seq in positive_examples])\n",
    "axes[0].set_title('Positive Sequence Lengths')\n",
    "axes[1].hist([len(seq) for seq in negative_examples])\n",
    "axes[1].set_title('Negative Sequence Lengths')"
   ]
  },
  {
   "cell_type": "markdown",
   "metadata": {
    "id": "gPqDJ5_JkYVH"
   },
   "source": [
    "Let's have a look at the data. For example, the first AMP in the dataset is: \n",
    "\n",
    "---\n",
    "\n",
    "Jettons un coup d'oeil aux données. Le premier exemple d'AMP est:"
   ]
  },
  {
   "cell_type": "code",
   "execution_count": 11,
   "metadata": {
    "colab": {
     "base_uri": "https://localhost:8080/",
     "height": 35
    },
    "id": "jmPKW4ICjSk4",
    "outputId": "df51c7b6-b1de-4b85-9f7c-d3aa7e4240ea"
   },
   "outputs": [
    {
     "data": {
      "text/plain": [
       "'FFPIVGKLLSGLSGLL'"
      ]
     },
     "execution_count": 11,
     "metadata": {},
     "output_type": "execute_result"
    }
   ],
   "source": [
    "list(positive_examples)[0]"
   ]
  },
  {
   "cell_type": "markdown",
   "metadata": {
    "id": "cBOQwaD9kwoG"
   },
   "source": [
    "This string describes the sequence of [amino acids](https://en.wikipedia.org/wiki/Amino_acid) present in the given AMP. There are $20$ possible such *standard* amino acids present in the genetic code. To know more about the meaning of each of those letter, see [this section](https://en.wikipedia.org/wiki/Amino_acid#Table_of_standard_amino_acid_abbreviations_and_properties) of the Wikipedia page on amino acids.\n",
    "\n",
    "A non-AMP looks like:\n",
    "\n",
    "---\n",
    "\n",
    "Cette séquence décrit les amino acides présent dans l'AMP donné. Il y a $20$ aminos acides standard dans le code génétique. Pour en connaître plus sur la signification de chaque lettre, voir la page [wikipedia](https://en.wikipedia.org/wiki/Amino_acid#Table_of_standard_amino_acid_abbreviations_and_properties). "
   ]
  },
  {
   "cell_type": "code",
   "execution_count": 12,
   "metadata": {
    "colab": {
     "base_uri": "https://localhost:8080/",
     "height": 35
    },
    "id": "QMcOXgdbkh-p",
    "outputId": "3ce3e122-3236-4ae5-a7f2-8889f55fd615"
   },
   "outputs": [
    {
     "data": {
      "text/plain": [
       "'MGMGNMNKMMKQMQKMQAQVARLQEELGERTVEASAGGGVVKVTANGRQELVNIKIDPAAVDPEDVEMLQDLILAAVNEALHQSQEMVTREMAKITGNIRLPGF'"
      ]
     },
     "execution_count": 12,
     "metadata": {},
     "output_type": "execute_result"
    }
   ],
   "source": [
    "list(negative_examples)[0]"
   ]
  },
  {
   "cell_type": "markdown",
   "metadata": {
    "id": "8oh0vDvMLsN9"
   },
   "source": [
    "# Deliverables\n",
    "\n",
    "You should provide a Colab notebook containing your code, figures and analysis. The code should be runnable and the figures reproducible. What I'm looking for in your report is to understand the thought process that led you to model your problem in a particular way. I want to see how you go about validating your results: discuss limitations, what can go wrong, what went wrong and how you addressed those issues. The final accuracy number is less important than how you got there. For each algorithm, also please provide a quick math overview of how it works under the hood.\n",
    "\n",
    "The due date (firm) is April 30th. \n",
    "\n",
    "---\n",
    "\n",
    "Vous devez remettre un cahier Colab contenant votre code, figures et analyses. Le code doit être exécutable et doit pouvoir reproduire les figures. Le point auquel sur lequel je vais m'attarder le plus est de comprendre le développement de vos idées. Je veux pouvoir comprendre comment vous avez validé vos résultats: en discutant les limitations, qu'est-ce qui peut mal tourner et comment s'attaquer aux problèmes. La précision finale du modèle est moins importante que l'analyse de votre approche elle-même. Pour chaque algorithme, veuillez également fournir un survol mathématique des concepts principaux. \n",
    "\n",
    "La date finale (ferme) est le 30 avril. "
   ]
  },
  {
   "cell_type": "code",
   "execution_count": null,
   "metadata": {
    "id": "mwYAy36UL5nV"
   },
   "outputs": [],
   "source": []
  }
 ],
 "metadata": {
  "colab": {
   "collapsed_sections": [],
   "name": "IFT6390 Final Project.ipynb",
   "provenance": [],
   "toc_visible": true
  },
  "kernelspec": {
   "display_name": "Python 3",
   "language": "python",
   "name": "python3"
  },
  "language_info": {
   "codemirror_mode": {
    "name": "ipython",
    "version": 3
   },
   "file_extension": ".py",
   "mimetype": "text/x-python",
   "name": "python",
   "nbconvert_exporter": "python",
   "pygments_lexer": "ipython3",
   "version": "3.7.9"
  }
 },
 "nbformat": 4,
 "nbformat_minor": 1
}
