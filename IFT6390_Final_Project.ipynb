{
 "cells": [
  {
   "cell_type": "markdown",
   "metadata": {
    "id": "7UmUHbiGiEMW"
   },
   "source": [
    "# IFT6390: Final Project\n",
    "\n",
    "The final project pertains to the problem of finding novel [antimicrobial peptides](https://en.wikipedia.org/wiki/Antimicrobial_peptides) (AMP) which may turn out to be key in the fight against antibiotics resistance. The World Health Organization qualifies antibiotic resistance as one of the [''biggest threats to global health, food security, and development today''](https://www.who.int/news-room/fact-sheets/detail/antibiotic-resistance).\n",
    "\n",
    "Given the limited time frame of this project, I have scoped down the problems to two main tracks:\n",
    "\n",
    "1. **Classification**: classifying protein sequences as AMP or non-AMP: a binary classification problem\n",
    "\n",
    "    1.1 You are allowed to use Scikit-learn. You need to provide the following baselines: Random Forest, SVM, Neural Network. Use TF-IDF as a baseline feature extractor (you can use sklearn) for each of those.  \n",
    "2. **Generation**: Given a corpus of AMP sequences, learn a character-level language model. You should implement a baseline using a Markov model. Then implement a sequential model using an RNN or LSTM. \n",
    "\n",
    "You should pick one of the two options. Choose your own adventure. You can work in teams of **three people max**.\n",
    "\n",
    "---\n",
    "Le projet final a trait au problème de découverte de [peptides antimicrobien](https://fr.wikipedia.org/wiki/Peptide_antimicrobien) qui pourraient s'avérer utile dans la bataille contre la résistance antibiotique. L'Organisation mondiale de la Santé estime que la résistance antibiotique est l'une des plus [grande menace à la santé globale, la sécurité alimentaire ainsi que le dévelopment de nos jours](https://www.who.int/news-room/fact-sheets/detail/antibiotic-resistance).\n",
    "\n",
    "Étant donnée la durée limitée de ce projet, j'ai établi les deux directions de recherche suivantes: \n",
    "\n",
    "1. **Classification**: classifier les séquence de peptides antimicrobiens (AMPS) et non-antimicrobiens (non-AMP).\n",
    "\n",
    "  1.1 Vous pouvez utiliser Scikit-learn. Vous devez toutefois fournir des points de comparaisons avec les algorithmes suivants: forêts aléatoires (random forest), SVM, réseaux de neurones. De plus, utilisez TF-IDF (scikit-learn) pour transformer les séquences de textes en vecteurs de charactéristiques.\n",
    "\n",
    "2.**Modèle génératif**: étant donné un ensemble de séquences d'AMPs, apprendre un modèle de langage au niveaux des charactères. Vous devez également implémenter un modèle Markoviens pour fins de comparaison. Implémentez ensuite le modèle génératif avec un RNN ou un LSTM (voir démo de Viet). \n",
    "\n",
    "Vous devez choisir une des deux options. Vous pouvez travailler en équipe de trois personnes maximum. \n",
    "\n",
    "\n",
    "\n",
    "\n",
    "\n"
   ]
  },
  {
   "cell_type": "markdown",
   "metadata": {
    "id": "UYGrjhhbiRiF"
   },
   "source": [
    "# Dataset\n",
    "\n",
    "The dataset in this project comes from two open source projects: amPEPpy and AMPlify. \n",
    "\n",
    "---\n",
    "\n",
    "L'ensemble de données provient des projets amPEPpy et AMPlify. "
   ]
  },
  {
   "cell_type": "code",
   "execution_count": 1,
   "metadata": {
    "colab": {
     "base_uri": "https://localhost:8080/"
    },
    "id": "tktJPs8MhLOr",
    "outputId": "dd79e8a9-0392-450f-90e0-9d1480181e14"
   },
   "outputs": [
    {
     "name": "stdout",
     "output_type": "stream",
     "text": [
      "Requirement already satisfied: biopython in c:\\users\\vaibh\\anaconda3\\lib\\site-packages (1.78)\n",
      "Requirement already satisfied: numpy in c:\\users\\vaibh\\anaconda3\\lib\\site-packages (from biopython) (1.19.2)\n"
     ]
    },
    {
     "name": "stderr",
     "output_type": "stream",
     "text": [
      "'wget' is not recognized as an internal or external command,\n",
      "operable program or batch file.\n",
      "'wget' is not recognized as an internal or external command,\n",
      "operable program or batch file.\n",
      "'wget' is not recognized as an internal or external command,\n",
      "operable program or batch file.\n",
      "'wget' is not recognized as an internal or external command,\n",
      "operable program or batch file.\n"
     ]
    }
   ],
   "source": [
    "import wget\n",
    "!pip install biopython\n",
    "!wget https://raw.githubusercontent.com/bcgsc/AMPlify/master/data/AMP_20190407.fa\n",
    "!wget https://raw.githubusercontent.com/bcgsc/AMPlify/master/data/non_AMP_20190413.fa\n",
    "!wget https://raw.githubusercontent.com/tlawrence3/amPEPpy/master/training_data/M_model_train_AMP_sequence.numbered.fasta\n",
    "!wget https://raw.githubusercontent.com/tlawrence3/amPEPpy/master/training_data/M_model_train_nonAMP_sequence.numbered.fasta"
   ]
  },
  {
   "cell_type": "code",
   "execution_count": 2,
   "metadata": {
    "id": "HQgO-_AxhaKS"
   },
   "outputs": [],
   "source": [
    "from Bio import SeqIO\n",
    "import matplotlib.pyplot as plt"
   ]
  },
  {
   "cell_type": "code",
   "execution_count": 3,
   "metadata": {
    "id": "svHX_fr4hPQg"
   },
   "outputs": [],
   "source": [
    "def fasta_to_str_set(name):\n",
    "  return {str(rec.seq) for rec in SeqIO.parse(name, 'fasta')}"
   ]
  },
  {
   "cell_type": "code",
   "execution_count": 4,
   "metadata": {
    "id": "due0S5wYhQ-5"
   },
   "outputs": [],
   "source": [
    "positive_examples = fasta_to_str_set('AMP_20190407.fa').union(fasta_to_str_set('M_model_train_AMP_sequence.numbered.fasta'))\n",
    "negative_examples = fasta_to_str_set('non_AMP_20190413.fa').union(fasta_to_str_set('M_model_train_nonAMP_sequence.numbered.fasta'))"
   ]
  },
  {
   "cell_type": "markdown",
   "metadata": {
    "id": "0cfO3VqZikeU"
   },
   "source": [
    "Once we have merged the two data sources, the positive class has:\n",
    "\n",
    "---\n",
    "\n",
    "Une fois les sources de données combinées, la classe positive a:"
   ]
  },
  {
   "cell_type": "code",
   "execution_count": 5,
   "metadata": {
    "colab": {
     "base_uri": "https://localhost:8080/"
    },
    "id": "nMv1E41mhrLB",
    "outputId": "e6ee9694-a484-4c61-e98a-b81071823bb4"
   },
   "outputs": [
    {
     "name": "stdout",
     "output_type": "stream",
     "text": [
      "5264 examples\n"
     ]
    }
   ],
   "source": [
    "print(f\"{len(positive_examples)} examples\")"
   ]
  },
  {
   "cell_type": "markdown",
   "metadata": {
    "id": "XMvOwI8cjAAK"
   },
   "source": [
    "and the negative class (non-AMPs) has:"
   ]
  },
  {
   "cell_type": "code",
   "execution_count": 6,
   "metadata": {
    "colab": {
     "base_uri": "https://localhost:8080/"
    },
    "id": "chlRMLqli5uE",
    "outputId": "87d533f1-e986-4c9f-9593-33320afeacc4"
   },
   "outputs": [
    {
     "name": "stdout",
     "output_type": "stream",
     "text": [
      "167732 examples\n"
     ]
    }
   ],
   "source": [
    "print(f\"{len(negative_examples)} examples\")"
   ]
  },
  {
   "cell_type": "markdown",
   "metadata": {
    "id": "WwJd8DiSjyHv"
   },
   "source": [
    "We have way more non-AMPs than AMP. This will be a challenge. Furthermore, the distribution of the sequence lengths varies a lot between the two classes. You should probably do something about this.\n",
    "\n",
    "---\n",
    "\n",
    "Nous avons également beaucoup plus de non-AMPs que d'AMPs. C'est là le défi. De plus, la distribution de la longeur des séquences varie beaucoup entre les deux classes. Vous devrez tenter de palier à ce problème. "
   ]
  },
  {
   "cell_type": "code",
   "execution_count": 7,
   "metadata": {
    "colab": {
     "base_uri": "https://localhost:8080/",
     "height": 298
    },
    "id": "eL4FBivbjDc4",
    "outputId": "32a1ba8e-1b73-48bd-d10c-2f1a8d320b5d"
   },
   "outputs": [
    {
     "data": {
      "text/plain": [
       "Text(0.5, 1.0, 'Negative Sequence Lengths')"
      ]
     },
     "execution_count": 7,
     "metadata": {},
     "output_type": "execute_result"
    },
    {
     "data": {
      "image/png": "[encoded data removed]",
      "text/plain": [
       "<Figure size 432x288 with 2 Axes>"
      ]
     },
     "metadata": {
      "needs_background": "light"
     },
     "output_type": "display_data"
    }
   ],
   "source": [
    "fig, axes = plt.subplots(1,2)\n",
    "axes[0].hist([len(seq) for seq in positive_examples])\n",
    "axes[0].set_title('Positive Sequence Lengths')\n",
    "axes[1].hist([len(seq) for seq in negative_examples])\n",
    "axes[1].set_title('Negative Sequence Lengths')"
   ]
  },
  {
   "cell_type": "markdown",
   "metadata": {
    "id": "gPqDJ5_JkYVH"
   },
   "source": [
    "Let's have a look at the data. For example, the first AMP in the dataset is: \n",
    "\n",
    "---\n",
    "\n",
    "Jettons un coup d'oeil aux données. Le premier exemple d'AMP est:"
   ]
  },
  {
   "cell_type": "code",
   "execution_count": 8,
   "metadata": {
    "colab": {
     "base_uri": "https://localhost:8080/",
     "height": 35
    },
    "id": "jmPKW4ICjSk4",
    "outputId": "df51c7b6-b1de-4b85-9f7c-d3aa7e4240ea"
   },
   "outputs": [
    {
     "data": {
      "text/plain": [
       "'GIGGALLSAGKSALKGLAKGLADHFAN'"
      ]
     },
     "execution_count": 8,
     "metadata": {},
     "output_type": "execute_result"
    }
   ],
   "source": [
    "list(positive_examples)[0]"
   ]
  },
  {
   "cell_type": "markdown",
   "metadata": {
    "id": "cBOQwaD9kwoG"
   },
   "source": [
    "This string describes the sequence of [amino acids](https://en.wikipedia.org/wiki/Amino_acid) present in the given AMP. There are $20$ possible such *standard* amino acids present in the genetic code. To know more about the meaning of each of those letter, see [this section](https://en.wikipedia.org/wiki/Amino_acid#Table_of_standard_amino_acid_abbreviations_and_properties) of the Wikipedia page on amino acids.\n",
    "\n",
    "A non-AMP looks like:\n",
    "\n",
    "---\n",
    "\n",
    "Cette séquence décrit les amino acides présent dans l'AMP donné. Il y a $20$ aminos acides standard dans le code génétique. Pour en connaître plus sur la signification de chaque lettre, voir la page [wikipedia](https://en.wikipedia.org/wiki/Amino_acid#Table_of_standard_amino_acid_abbreviations_and_properties). "
   ]
  },
  {
   "cell_type": "code",
   "execution_count": 9,
   "metadata": {
    "colab": {
     "base_uri": "https://localhost:8080/",
     "height": 35
    },
    "id": "QMcOXgdbkh-p",
    "outputId": "3ce3e122-3236-4ae5-a7f2-8889f55fd615"
   },
   "outputs": [
    {
     "data": {
      "text/plain": [
       "'MSKKNSKNKAGSSTIALNRTARHEYFIEERVEAGLSLQGWEVKSLRAGKANISEAYVIFMQGEAFLFGSTFLPLNAASSHVVCDPTRTRKLLLSRHELDKLESLTARQGYTIVPLALYWKECWVKVEIGLVKGKKEHDKREDTKAREWDREKARIMKNKHRG'"
      ]
     },
     "execution_count": 9,
     "metadata": {},
     "output_type": "execute_result"
    }
   ],
   "source": [
    "list(negative_examples)[0]"
   ]
  },
  {
   "cell_type": "markdown",
   "metadata": {
    "id": "8oh0vDvMLsN9"
   },
   "source": [
    "# Deliverables\n",
    "\n",
    "You should provide a Colab notebook containing your code, figures and analysis. The code should be runnable and the figures reproducible. What I'm looking for in your report is to understand the thought process that led you to model your problem in a particular way. I want to see how you go about validating your results: discuss limitations, what can go wrong, what went wrong and how you addressed those issues. The final accuracy number is less important than how you got there. For each algorithm, also please provide a quick math overview of how it works under the hood.\n",
    "\n",
    "The due date (firm) is April 30th. \n",
    "\n",
    "---\n",
    "\n",
    "Vous devez remettre un cahier Colab contenant votre code, figures et analyses. Le code doit être exécutable et doit pouvoir reproduire les figures. Le point auquel sur lequel je vais m'attarder le plus est de comprendre le développement de vos idées. Je veux pouvoir comprendre comment vous avez validé vos résultats: en discutant les limitations, qu'est-ce qui peut mal tourner et comment s'attaquer aux problèmes. La précision finale du modèle est moins importante que l'analyse de votre approche elle-même. Pour chaque algorithme, veuillez également fournir un survol mathématique des concepts principaux. \n",
    "\n",
    "La date finale (ferme) est le 30 avril. "
   ]
  },
  {
   "cell_type": "code",
   "execution_count": 10,
   "metadata": {},
   "outputs": [],
   "source": [
    "import numpy as np\n",
    "import pandas as pd\n",
    "data=np.array(list(positive_examples))"
   ]
  },
  {
   "cell_type": "code",
   "execution_count": 11,
   "metadata": {},
   "outputs": [],
   "source": [
    "data=np.append(data,np.array(list(negative_examples)))"
   ]
  },
  {
   "cell_type": "code",
   "execution_count": 12,
   "metadata": {},
   "outputs": [],
   "source": [
    "def feature_extract(data,ngram_range=(2,2),top_feature=50):\n",
    "    from sklearn.feature_extraction.text import CountVectorizer\n",
    "    vectorizer=CountVectorizer(analyzer='char',ngram_range=ngram_range,max_features=1000)\n",
    "    X = vectorizer.fit_transform(data)\n",
    "    D=pd.DataFrame(X.toarray(),columns=vectorizer.get_feature_names())\n",
    "    P_F=np.array(D.iloc[:5264].sum().sort_values(ascending= False).index)\n",
    "    P_F1,P_F2=P_F[:top_feature],P_F[P_F.shape[0]-top_feature]\n",
    "    N_F=np.array(D.iloc[5264:].sum().sort_values(ascending= False).index)\n",
    "    N_F1,N_F2=N_F[:top_feature],N_F[N_F.shape[0]-top_feature]\n",
    "    combin_F=np.append(P_F1,N_F1)\n",
    "#    combin_F=np.append(np.append(P_F1,P_F2),np.append(N_F1,N_F2),axis=0)\n",
    "    F=np.unique(combin_F)\n",
    "    idex=[]\n",
    "    for feature in F:\n",
    "        if np.where(np.char.find(list(N_F),feature)==0)[0].shape[0]==0:\n",
    "            idex.append(feature)\n",
    "    \n",
    "    idex1=[]\n",
    "    for feature in F:\n",
    "        if np.where(np.char.find(list(P_F),feature)==0)[0].shape[0]==0:\n",
    "            idex1.append(feature)\n",
    "            \n",
    "    features=list(np.unique(np.append(idex,idex1)))\n",
    "    features=list(np.unique(combin_F))\n",
    "    outdata=D[features]\n",
    "    outdata.to_pickle(f\"./main_{len(features)}_{ngram_range}_feature.pkl\")\n",
    "    return outdata"
   ]
  },
  {
   "cell_type": "code",
   "execution_count": 13,
   "metadata": {},
   "outputs": [],
   "source": [
    "def features_final(data):    \n",
    "    features={}\n",
    "    ngram_range={'N0':(2,2)}#,'N1':(3,3),'N2':(4,4),'N3':(5,5),'N4':(6,6),'N5':(7,7)}\n",
    "    for j in range(len(ngram_range)):\n",
    "        outdata=feature_extract(data,ngram_range=ngram_range[f\"N{j}\"],top_feature=40)\n",
    "        features[f\"features{j}\"]=outdata.values\n",
    "        features[f\"column{j}\"]=outdata.columns\n",
    "    return features"
   ]
  },
  {
   "cell_type": "code",
   "execution_count": 14,
   "metadata": {},
   "outputs": [],
   "source": [
    "features=features_final(data)"
   ]
  },
  {
   "cell_type": "code",
   "execution_count": 15,
   "metadata": {},
   "outputs": [
    {
     "data": {
      "text/plain": [
       "{'features0': array([[0, 0, 1, ..., 0, 0, 0],\n",
       "        [0, 0, 0, ..., 0, 0, 0],\n",
       "        [1, 1, 1, ..., 0, 0, 0],\n",
       "        ...,\n",
       "        [0, 0, 3, ..., 0, 1, 0],\n",
       "        [2, 1, 2, ..., 0, 1, 0],\n",
       "        [4, 0, 1, ..., 4, 4, 3]], dtype=int64),\n",
       " 'column0': Index(['aa', 'ae', 'ag', 'ak', 'al', 'ar', 'av', 'ck', 'cr', 'dl', 'ea', 'ee',\n",
       "        'ek', 'el', 'fl', 'ga', 'gg', 'gi', 'gk', 'gl', 'gr', 'gs', 'gv', 'ia',\n",
       "        'ig', 'ik', 'il', 'ka', 'kc', 'kg', 'ki', 'kk', 'kl', 'kn', 'kv', 'la',\n",
       "        'ld', 'le', 'lg', 'li', 'lk', 'll', 'lp', 'lr', 'ls', 'lt', 'lv', 'rl',\n",
       "        'rr', 'sc', 'sg', 'sl', 'tl', 'va', 've', 'vg', 'vl', 'vv'],\n",
       "       dtype='object')}"
      ]
     },
     "execution_count": 15,
     "metadata": {},
     "output_type": "execute_result"
    }
   ],
   "source": [
    "features"
   ]
  },
  {
   "cell_type": "code",
   "execution_count": 16,
   "metadata": {},
   "outputs": [],
   "source": [
    "final_features=features['features0']\n",
    "final_column=np.array(features['column0'])\n",
    "for j in range(1,int(len(features)/2)):\n",
    "    final_features=np.append(final_features,features[f'features{j}'],axis=1)\n",
    "    final_column=np.append(final_column,features[f'column{j}'])"
   ]
  },
  {
   "cell_type": "code",
   "execution_count": 17,
   "metadata": {},
   "outputs": [
    {
     "data": {
      "text/plain": [
       "(58,)"
      ]
     },
     "execution_count": 17,
     "metadata": {},
     "output_type": "execute_result"
    }
   ],
   "source": [
    "final_column.shape"
   ]
  },
  {
   "cell_type": "code",
   "execution_count": 18,
   "metadata": {},
   "outputs": [],
   "source": [
    "X_traing=pd.DataFrame(final_features,columns=list(final_column))"
   ]
  },
  {
   "cell_type": "code",
   "execution_count": 19,
   "metadata": {},
   "outputs": [],
   "source": [
    "X_traing.to_pickle(\"finaltraing_feature_top40(2).pkl\")"
   ]
  },
  {
   "cell_type": "code",
   "execution_count": 20,
   "metadata": {},
   "outputs": [],
   "source": [
    "from sklearn.feature_extraction.text import TfidfTransformer"
   ]
  },
  {
   "cell_type": "code",
   "execution_count": 21,
   "metadata": {},
   "outputs": [
    {
     "data": {
      "text/plain": [
       "(172996, 58)"
      ]
     },
     "execution_count": 21,
     "metadata": {},
     "output_type": "execute_result"
    }
   ],
   "source": [
    "tf_transformer = TfidfTransformer(use_idf=False).fit(X_traing)\n",
    "X_train_tf = tf_transformer.transform(X_traing)\n",
    "X_train_tf.shape"
   ]
  },
  {
   "cell_type": "code",
   "execution_count": 22,
   "metadata": {},
   "outputs": [],
   "source": [
    "X_training_final=pd.DataFrame(X_train_tf.toarray())"
   ]
  },
  {
   "cell_type": "code",
   "execution_count": 23,
   "metadata": {},
   "outputs": [],
   "source": [
    "X = X_training_final.values"
   ]
  },
  {
   "cell_type": "code",
   "execution_count": 24,
   "metadata": {},
   "outputs": [
    {
     "data": {
      "text/plain": [
       "(172996, 58)"
      ]
     },
     "execution_count": 24,
     "metadata": {},
     "output_type": "execute_result"
    }
   ],
   "source": [
    "X.shape"
   ]
  },
  {
   "cell_type": "code",
   "execution_count": 25,
   "metadata": {},
   "outputs": [],
   "source": [
    "X1,X2=X[0:5264],X[5264:]"
   ]
  },
  {
   "cell_type": "code",
   "execution_count": 26,
   "metadata": {},
   "outputs": [],
   "source": [
    "Y1,Y2=np.ones(X1.shape[0]),np.zeros(X2.shape[0])\n"
   ]
  },
  {
   "cell_type": "code",
   "execution_count": 27,
   "metadata": {},
   "outputs": [],
   "source": [
    "negateive={}\n",
    "datasplit=np.zeros(round(X2.shape[0]/X1.shape[0])+1)"
   ]
  },
  {
   "cell_type": "code",
   "execution_count": 28,
   "metadata": {},
   "outputs": [],
   "source": [
    "datasplit[-1]=X2.shape[0]"
   ]
  },
  {
   "cell_type": "code",
   "execution_count": 29,
   "metadata": {},
   "outputs": [],
   "source": [
    "for i in range(1,round(X2.shape[0]/X1.shape[0])):\n",
    "    datasplit[i]=int(i*X1.shape[0])"
   ]
  },
  {
   "cell_type": "code",
   "execution_count": 30,
   "metadata": {},
   "outputs": [
    {
     "data": {
      "text/plain": [
       "array([     0.,   5264.,  10528.,  15792.,  21056.,  26320.,  31584.,\n",
       "        36848.,  42112.,  47376.,  52640.,  57904.,  63168.,  68432.,\n",
       "        73696.,  78960.,  84224.,  89488.,  94752., 100016., 105280.,\n",
       "       110544., 115808., 121072., 126336., 131600., 136864., 142128.,\n",
       "       147392., 152656., 157920., 163184., 167732.])"
      ]
     },
     "execution_count": 30,
     "metadata": {},
     "output_type": "execute_result"
    }
   ],
   "source": [
    "datasplit"
   ]
  },
  {
   "cell_type": "code",
   "execution_count": 31,
   "metadata": {},
   "outputs": [],
   "source": [
    "for j in range(1,datasplit.shape[0]):\n",
    "    negateive[f\"X{j}\"]=X2[int(datasplit[j-1]):int(datasplit[j])]\n",
    "    negateive[f\"Y{j}\"]=np.zeros(negateive[f\"X{j}\"].shape[0])"
   ]
  },
  {
   "cell_type": "code",
   "execution_count": 32,
   "metadata": {},
   "outputs": [
    {
     "data": {
      "text/plain": [
       "{'X1': array([[0.08980265, 0.        , 0.26940795, ..., 0.        , 0.        ,\n",
       "         0.08980265],\n",
       "        [0.16783627, 0.08391814, 0.16783627, ..., 0.16783627, 0.16783627,\n",
       "         0.08391814],\n",
       "        [0.25      , 0.16666667, 0.16666667, ..., 0.        , 0.25      ,\n",
       "         0.16666667],\n",
       "        ...,\n",
       "        [0.10425721, 0.10425721, 0.10425721, ..., 0.10425721, 0.31277162,\n",
       "         0.        ],\n",
       "        [0.        , 0.        , 0.        , ..., 0.14586499, 0.14586499,\n",
       "         0.14586499],\n",
       "        [0.1490712 , 0.2981424 , 0.        , ..., 0.1490712 , 0.        ,\n",
       "         0.1490712 ]]),\n",
       " 'Y1': array([0., 0., 0., ..., 0., 0., 0.]),\n",
       " 'X2': array([[0.16843038, 0.08421519, 0.        , ..., 0.08421519, 0.08421519,\n",
       "         0.        ],\n",
       "        [0.        , 0.        , 0.        , ..., 0.        , 0.        ,\n",
       "         0.        ],\n",
       "        [0.14142136, 0.14142136, 0.14142136, ..., 0.        , 0.14142136,\n",
       "         0.        ],\n",
       "        ...,\n",
       "        [0.        , 0.        , 0.        , ..., 0.        , 0.0805823 ,\n",
       "         0.        ],\n",
       "        [0.33752637, 0.        , 0.0562544 , ..., 0.        , 0.22501758,\n",
       "         0.11250879],\n",
       "        [0.22086305, 0.        , 0.        , ..., 0.11043153, 0.11043153,\n",
       "         0.        ]]),\n",
       " 'Y2': array([0., 0., 0., ..., 0., 0., 0.]),\n",
       " 'X3': array([[0.21442251, 0.        , 0.        , ..., 0.21442251, 0.10721125,\n",
       "         0.32163376],\n",
       "        [0.18786729, 0.12524486, 0.        , ..., 0.        , 0.25048972,\n",
       "         0.        ],\n",
       "        [0.22086305, 0.        , 0.22086305, ..., 0.        , 0.11043153,\n",
       "         0.        ],\n",
       "        ...,\n",
       "        [0.        , 0.        , 0.        , ..., 0.        , 0.        ,\n",
       "         0.        ],\n",
       "        [0.42857143, 0.28571429, 0.        , ..., 0.        , 0.14285714,\n",
       "         0.        ],\n",
       "        [0.19900744, 0.09950372, 0.09950372, ..., 0.        , 0.29851116,\n",
       "         0.        ]]),\n",
       " 'Y3': array([0., 0., 0., ..., 0., 0., 0.]),\n",
       " 'X4': array([[0.27050089, 0.18033393, 0.27050089, ..., 0.09016696, 0.27050089,\n",
       "         0.        ],\n",
       "        [0.        , 0.        , 0.        , ..., 0.        , 0.        ,\n",
       "         0.        ],\n",
       "        [0.41959068, 0.08391814, 0.16783627, ..., 0.08391814, 0.        ,\n",
       "         0.08391814],\n",
       "        ...,\n",
       "        [0.10369517, 0.        , 0.20739034, ..., 0.        , 0.        ,\n",
       "         0.20739034],\n",
       "        [0.        , 0.        , 0.        , ..., 0.        , 0.        ,\n",
       "         0.23249528],\n",
       "        [0.        , 0.        , 0.15811388, ..., 0.        , 0.15811388,\n",
       "         0.15811388]]),\n",
       " 'Y4': array([0., 0., 0., ..., 0., 0., 0.]),\n",
       " 'X5': array([[0.15430335, 0.        , 0.        , ..., 0.15430335, 0.3086067 ,\n",
       "         0.15430335],\n",
       "        [0.14586499, 0.        , 0.14586499, ..., 0.14586499, 0.14586499,\n",
       "         0.        ],\n",
       "        [0.        , 0.09090909, 0.18181818, ..., 0.09090909, 0.        ,\n",
       "         0.        ],\n",
       "        ...,\n",
       "        [0.        , 0.        , 0.        , ..., 0.        , 0.08164966,\n",
       "         0.        ],\n",
       "        [0.1796053 , 0.        , 0.1796053 , ..., 0.        , 0.1796053 ,\n",
       "         0.        ],\n",
       "        [0.        , 0.        , 0.        , ..., 0.        , 0.31622777,\n",
       "         0.        ]]),\n",
       " 'Y5': array([0., 0., 0., ..., 0., 0., 0.]),\n",
       " 'X6': array([[0.37062466, 0.        , 0.14824986, ..., 0.14824986, 0.22237479,\n",
       "         0.14824986],\n",
       "        [0.40824829, 0.40824829, 0.        , ..., 0.        , 0.        ,\n",
       "         0.        ],\n",
       "        [0.        , 0.        , 0.        , ..., 0.        , 0.        ,\n",
       "         0.        ],\n",
       "        ...,\n",
       "        [0.06495698, 0.25982792, 0.        , ..., 0.12991396, 0.12991396,\n",
       "         0.06495698],\n",
       "        [0.        , 0.        , 0.        , ..., 0.        , 0.        ,\n",
       "         0.        ],\n",
       "        [0.11547005, 0.11547005, 0.        , ..., 0.        , 0.23094011,\n",
       "         0.11547005]]),\n",
       " 'Y6': array([0., 0., 0., ..., 0., 0., 0.]),\n",
       " 'X7': array([[0.37371755, 0.22423053, 0.22423053, ..., 0.        , 0.14948702,\n",
       "         0.07474351],\n",
       "        [0.06666667, 0.06666667, 0.2       , ..., 0.        , 0.13333333,\n",
       "         0.06666667],\n",
       "        [0.        , 0.07624929, 0.15249857, ..., 0.        , 0.        ,\n",
       "         0.07624929],\n",
       "        ...,\n",
       "        [0.24253563, 0.12126781, 0.12126781, ..., 0.24253563, 0.12126781,\n",
       "         0.36380344],\n",
       "        [0.1933473 , 0.1933473 , 0.09667365, ..., 0.        , 0.29002095,\n",
       "         0.09667365],\n",
       "        [0.07647191, 0.        , 0.15294382, ..., 0.07647191, 0.07647191,\n",
       "         0.07647191]]),\n",
       " 'Y7': array([0., 0., 0., ..., 0., 0., 0.]),\n",
       " 'X8': array([[0.21821789, 0.21821789, 0.10910895, ..., 0.        , 0.        ,\n",
       "         0.10910895],\n",
       "        [0.        , 0.        , 0.30779351, ..., 0.10259784, 0.10259784,\n",
       "         0.30779351],\n",
       "        [0.40613847, 0.30460385, 0.        , ..., 0.        , 0.        ,\n",
       "         0.        ],\n",
       "        ...,\n",
       "        [0.        , 0.        , 0.        , ..., 0.        , 0.        ,\n",
       "         0.        ],\n",
       "        [0.15205718, 0.15205718, 0.15205718, ..., 0.        , 0.38014296,\n",
       "         0.        ],\n",
       "        [0.05044333, 0.10088665, 0.35310329, ..., 0.15132998, 0.20177331,\n",
       "         0.05044333]]),\n",
       " 'Y8': array([0., 0., 0., ..., 0., 0., 0.]),\n",
       " 'X9': array([[0.10314212, 0.10314212, 0.        , ..., 0.        , 0.10314212,\n",
       "         0.10314212],\n",
       "        [0.36380344, 0.        , 0.12126781, ..., 0.        , 0.        ,\n",
       "         0.12126781],\n",
       "        [0.26037782, 0.06509446, 0.13018891, ..., 0.13018891, 0.06509446,\n",
       "         0.13018891],\n",
       "        ...,\n",
       "        [0.        , 0.        , 0.11547005, ..., 0.23094011, 0.23094011,\n",
       "         0.23094011],\n",
       "        [0.        , 0.        , 0.        , ..., 0.15617376, 0.15617376,\n",
       "         0.        ],\n",
       "        [0.09853293, 0.09853293, 0.09853293, ..., 0.        , 0.09853293,\n",
       "         0.09853293]]),\n",
       " 'Y9': array([0., 0., 0., ..., 0., 0., 0.]),\n",
       " 'X10': array([[0.06622662, 0.06622662, 0.06622662, ..., 0.06622662, 0.19867985,\n",
       "         0.13245324],\n",
       "        [0.        , 0.        , 0.06819943, ..., 0.13639887, 0.        ,\n",
       "         0.        ],\n",
       "        [0.26940795, 0.3592106 , 0.1796053 , ..., 0.08980265, 0.08980265,\n",
       "         0.08980265],\n",
       "        ...,\n",
       "        [0.14106912, 0.        , 0.07053456, ..., 0.07053456, 0.07053456,\n",
       "         0.        ],\n",
       "        [0.        , 0.25      , 0.25      , ..., 0.5       , 0.        ,\n",
       "         0.        ],\n",
       "        [0.09950372, 0.09950372, 0.        , ..., 0.        , 0.19900744,\n",
       "         0.09950372]]),\n",
       " 'Y10': array([0., 0., 0., ..., 0., 0., 0.]),\n",
       " 'X11': array([[0.        , 0.        , 0.        , ..., 0.1       , 0.        ,\n",
       "         0.5       ],\n",
       "        [0.        , 0.        , 0.12309149, ..., 0.        , 0.        ,\n",
       "         0.12309149],\n",
       "        [0.18898224, 0.18898224, 0.09449112, ..., 0.        , 0.18898224,\n",
       "         0.18898224],\n",
       "        ...,\n",
       "        [0.        , 0.17609018, 0.        , ..., 0.08804509, 0.17609018,\n",
       "         0.17609018],\n",
       "        [0.        , 0.        , 0.        , ..., 0.31622777, 0.        ,\n",
       "         0.        ],\n",
       "        [0.14784425, 0.07392213, 0.36961064, ..., 0.        , 0.07392213,\n",
       "         0.14784425]]),\n",
       " 'Y11': array([0., 0., 0., ..., 0., 0., 0.]),\n",
       " 'X12': array([[0.        , 0.06565322, 0.        , ..., 0.        , 0.06565322,\n",
       "         0.        ],\n",
       "        [0.        , 0.23408229, 0.        , ..., 0.        , 0.        ,\n",
       "         0.11704115],\n",
       "        [0.19611614, 0.        , 0.        , ..., 0.        , 0.        ,\n",
       "         0.        ],\n",
       "        ...,\n",
       "        [0.        , 0.        , 0.24913644, ..., 0.16609096, 0.08304548,\n",
       "         0.        ],\n",
       "        [0.        , 0.        , 0.        , ..., 0.        , 0.        ,\n",
       "         0.30151134],\n",
       "        [0.1393466 , 0.0696733 , 0.        , ..., 0.        , 0.27869321,\n",
       "         0.        ]]),\n",
       " 'Y12': array([0., 0., 0., ..., 0., 0., 0.]),\n",
       " 'X13': array([[0.13483997, 0.20225996, 0.06741999, ..., 0.        , 0.06741999,\n",
       "         0.        ],\n",
       "        [0.        , 0.2236068 , 0.        , ..., 0.0745356 , 0.2236068 ,\n",
       "         0.0745356 ],\n",
       "        [0.1796053 , 0.        , 0.1796053 , ..., 0.1796053 , 0.1796053 ,\n",
       "         0.1796053 ],\n",
       "        ...,\n",
       "        [0.14359163, 0.        , 0.        , ..., 0.        , 0.        ,\n",
       "         0.        ],\n",
       "        [0.33129458, 0.11043153, 0.        , ..., 0.        , 0.        ,\n",
       "         0.        ],\n",
       "        [0.1118034 , 0.        , 0.        , ..., 0.        , 0.2236068 ,\n",
       "         0.        ]]),\n",
       " 'Y13': array([0., 0., 0., ..., 0., 0., 0.]),\n",
       " 'X14': array([[0.        , 0.08137885, 0.        , ..., 0.16275769, 0.24413654,\n",
       "         0.16275769],\n",
       "        [0.19245009, 0.28867513, 0.        , ..., 0.        , 0.19245009,\n",
       "         0.        ],\n",
       "        [0.26211122, 0.08737041, 0.08737041, ..., 0.26211122, 0.17474081,\n",
       "         0.17474081],\n",
       "        ...,\n",
       "        [0.        , 0.        , 0.        , ..., 0.        , 0.10369517,\n",
       "         0.        ],\n",
       "        [0.        , 0.        , 0.        , ..., 0.14744196, 0.14744196,\n",
       "         0.        ],\n",
       "        [0.        , 0.        , 0.        , ..., 0.        , 0.        ,\n",
       "         0.        ]]),\n",
       " 'Y14': array([0., 0., 0., ..., 0., 0., 0.]),\n",
       " 'X15': array([[0.        , 0.        , 0.        , ..., 0.        , 0.11624764,\n",
       "         0.11624764],\n",
       "        [0.06415003, 0.06415003, 0.38490018, ..., 0.19245009, 0.12830006,\n",
       "         0.19245009],\n",
       "        [0.08192319, 0.08192319, 0.32769277, ..., 0.08192319, 0.24576958,\n",
       "         0.16384638],\n",
       "        ...,\n",
       "        [0.        , 0.125     , 0.        , ..., 0.        , 0.25      ,\n",
       "         0.25      ],\n",
       "        [0.46291005, 0.15430335, 0.        , ..., 0.        , 0.        ,\n",
       "         0.15430335],\n",
       "        [0.07881104, 0.15762208, 0.07881104, ..., 0.        , 0.        ,\n",
       "         0.07881104]]),\n",
       " 'Y15': array([0., 0., 0., ..., 0., 0., 0.]),\n",
       " 'X16': array([[0.20203051, 0.10101525, 0.10101525, ..., 0.        , 0.10101525,\n",
       "         0.40406102],\n",
       "        [0.57353933, 0.        , 0.11470787, ..., 0.        , 0.11470787,\n",
       "         0.        ],\n",
       "        [0.12403473, 0.24806947, 0.12403473, ..., 0.        , 0.12403473,\n",
       "         0.12403473],\n",
       "        ...,\n",
       "        [0.20412415, 0.        , 0.        , ..., 0.        , 0.        ,\n",
       "         0.40824829],\n",
       "        [0.31434731, 0.06286946, 0.18860838, ..., 0.        , 0.06286946,\n",
       "         0.06286946],\n",
       "        [0.14433757, 0.14433757, 0.        , ..., 0.        , 0.        ,\n",
       "         0.        ]]),\n",
       " 'Y16': array([0., 0., 0., ..., 0., 0., 0.]),\n",
       " 'X17': array([[0.        , 0.3549426 , 0.        , ..., 0.        , 0.44367825,\n",
       "         0.        ],\n",
       "        [0.26832816, 0.17888544, 0.08944272, ..., 0.35777088, 0.17888544,\n",
       "         0.26832816],\n",
       "        [0.        , 0.        , 0.        , ..., 0.13483997, 0.        ,\n",
       "         0.        ],\n",
       "        ...,\n",
       "        [0.        , 0.        , 0.        , ..., 0.        , 0.07832604,\n",
       "         0.        ],\n",
       "        [0.4472136 , 0.        , 0.2236068 , ..., 0.        , 0.        ,\n",
       "         0.        ],\n",
       "        [0.        , 0.        , 0.0877058 , ..., 0.        , 0.1754116 ,\n",
       "         0.        ]]),\n",
       " 'Y17': array([0., 0., 0., ..., 0., 0., 0.]),\n",
       " 'X18': array([[0.23570226, 0.        , 0.23570226, ..., 0.        , 0.11785113,\n",
       "         0.        ],\n",
       "        [0.15811388, 0.07905694, 0.23717082, ..., 0.07905694, 0.15811388,\n",
       "         0.39528471],\n",
       "        [0.15249857, 0.15249857, 0.        , ..., 0.        , 0.30499714,\n",
       "         0.        ],\n",
       "        ...,\n",
       "        [0.        , 0.26037782, 0.        , ..., 0.13018891, 0.13018891,\n",
       "         0.13018891],\n",
       "        [0.        , 0.        , 0.21650635, ..., 0.        , 0.07216878,\n",
       "         0.        ],\n",
       "        [0.26726124, 0.        , 0.13363062, ..., 0.        , 0.13363062,\n",
       "         0.26726124]]),\n",
       " 'Y18': array([0., 0., 0., ..., 0., 0., 0.]),\n",
       " 'X19': array([[0.08481889, 0.08481889, 0.08481889, ..., 0.        , 0.        ,\n",
       "         0.08481889],\n",
       "        [0.32929278, 0.10976426, 0.10976426, ..., 0.10976426, 0.10976426,\n",
       "         0.10976426],\n",
       "        [0.        , 0.        , 0.        , ..., 0.28867513, 0.14433757,\n",
       "         0.        ],\n",
       "        ...,\n",
       "        [0.09901475, 0.09901475, 0.09901475, ..., 0.        , 0.        ,\n",
       "         0.29704426],\n",
       "        [0.        , 0.        , 0.        , ..., 0.        , 0.        ,\n",
       "         0.        ],\n",
       "        [0.        , 0.15430335, 0.        , ..., 0.15430335, 0.        ,\n",
       "         0.3086067 ]]),\n",
       " 'Y19': array([0., 0., 0., ..., 0., 0., 0.]),\n",
       " 'X20': array([[0.24806947, 0.12403473, 0.        , ..., 0.        , 0.        ,\n",
       "         0.        ],\n",
       "        [0.21004201, 0.14002801, 0.14002801, ..., 0.21004201, 0.070014  ,\n",
       "         0.        ],\n",
       "        [0.        , 0.21821789, 0.        , ..., 0.        , 0.        ,\n",
       "         0.        ],\n",
       "        ...,\n",
       "        [0.11470787, 0.        , 0.        , ..., 0.        , 0.        ,\n",
       "         0.11470787],\n",
       "        [0.09901475, 0.        , 0.        , ..., 0.        , 0.29704426,\n",
       "         0.19802951],\n",
       "        [0.        , 0.        , 0.        , ..., 0.        , 0.        ,\n",
       "         0.25819889]]),\n",
       " 'Y20': array([0., 0., 0., ..., 0., 0., 0.]),\n",
       " 'X21': array([[0.        , 0.        , 0.        , ..., 0.        , 0.        ,\n",
       "         0.        ],\n",
       "        [0.32539569, 0.05423261, 0.27116307, ..., 0.16269784, 0.05423261,\n",
       "         0.21693046],\n",
       "        [0.        , 0.        , 0.0805823 , ..., 0.        , 0.24174689,\n",
       "         0.0805823 ],\n",
       "        ...,\n",
       "        [0.1796053 , 0.26940795, 0.        , ..., 0.        , 0.1796053 ,\n",
       "         0.        ],\n",
       "        [0.        , 0.07412493, 0.07412493, ..., 0.22237479, 0.07412493,\n",
       "         0.14824986],\n",
       "        [0.18257419, 0.        , 0.        , ..., 0.09128709, 0.27386128,\n",
       "         0.09128709]]),\n",
       " 'Y21': array([0., 0., 0., ..., 0., 0., 0.]),\n",
       " 'X22': array([[0.        , 0.22941573, 0.        , ..., 0.22941573, 0.        ,\n",
       "         0.        ],\n",
       "        [0.        , 0.42640143, 0.        , ..., 0.10660036, 0.10660036,\n",
       "         0.21320072],\n",
       "        [0.        , 0.09166985, 0.        , ..., 0.1833397 , 0.3666794 ,\n",
       "         0.1833397 ],\n",
       "        ...,\n",
       "        [0.09325048, 0.09325048, 0.        , ..., 0.09325048, 0.18650096,\n",
       "         0.09325048],\n",
       "        [0.20507578, 0.06835859, 0.13671719, ..., 0.13671719, 0.06835859,\n",
       "         0.06835859],\n",
       "        [0.5547002 , 0.        , 0.        , ..., 0.13867505, 0.        ,\n",
       "         0.        ]]),\n",
       " 'Y22': array([0., 0., 0., ..., 0., 0., 0.]),\n",
       " 'X23': array([[0.52704628, 0.21081851, 0.21081851, ..., 0.        , 0.        ,\n",
       "         0.        ],\n",
       "        [0.46188022, 0.23094011, 0.11547005, ..., 0.11547005, 0.        ,\n",
       "         0.11547005],\n",
       "        [0.07161149, 0.        , 0.21483446, ..., 0.21483446, 0.07161149,\n",
       "         0.07161149],\n",
       "        ...,\n",
       "        [0.07161149, 0.07161149, 0.07161149, ..., 0.        , 0.14322297,\n",
       "         0.28644595],\n",
       "        [0.08980265, 0.08980265, 0.        , ..., 0.        , 0.1796053 ,\n",
       "         0.1796053 ],\n",
       "        [0.        , 0.        , 0.        , ..., 0.        , 0.        ,\n",
       "         0.        ]]),\n",
       " 'Y23': array([0., 0., 0., ..., 0., 0., 0.]),\n",
       " 'X24': array([[0.        , 0.        , 0.        , ..., 0.        , 0.        ,\n",
       "         0.        ],\n",
       "        [0.        , 0.        , 0.18257419, ..., 0.        , 0.        ,\n",
       "         0.        ],\n",
       "        [0.25537696, 0.        , 0.08512565, ..., 0.        , 0.25537696,\n",
       "         0.        ],\n",
       "        ...,\n",
       "        [0.23038784, 0.1382327 , 0.09215514, ..., 0.04607757, 0.04607757,\n",
       "         0.23038784],\n",
       "        [0.52414242, 0.20965697, 0.10482848, ..., 0.        , 0.        ,\n",
       "         0.        ],\n",
       "        [0.        , 0.        , 0.18257419, ..., 0.18257419, 0.        ,\n",
       "         0.        ]]),\n",
       " 'Y24': array([0., 0., 0., ..., 0., 0., 0.]),\n",
       " 'X25': array([[0.        , 0.        , 0.3380617 , ..., 0.16903085, 0.08451543,\n",
       "         0.08451543],\n",
       "        [0.26490647, 0.        , 0.13245324, ..., 0.26490647, 0.        ,\n",
       "         0.13245324],\n",
       "        [0.08084521, 0.        , 0.24253563, ..., 0.08084521, 0.24253563,\n",
       "         0.24253563],\n",
       "        ...,\n",
       "        [0.        , 0.        , 0.        , ..., 0.11250879, 0.        ,\n",
       "         0.        ],\n",
       "        [0.18107149, 0.18107149, 0.09053575, ..., 0.18107149, 0.        ,\n",
       "         0.09053575],\n",
       "        [0.        , 0.        , 0.        , ..., 0.10540926, 0.10540926,\n",
       "         0.        ]]),\n",
       " 'Y25': array([0., 0., 0., ..., 0., 0., 0.]),\n",
       " 'X26': array([[0.        , 0.        , 0.        , ..., 0.        , 0.        ,\n",
       "         0.        ],\n",
       "        [0.        , 0.        , 0.        , ..., 0.        , 0.18257419,\n",
       "         0.        ],\n",
       "        [0.        , 0.30151134, 0.        , ..., 0.15075567, 0.30151134,\n",
       "         0.15075567],\n",
       "        ...,\n",
       "        [0.08703883, 0.        , 0.        , ..., 0.        , 0.        ,\n",
       "         0.08703883],\n",
       "        [0.17474081, 0.08737041, 0.08737041, ..., 0.26211122, 0.        ,\n",
       "         0.34948162],\n",
       "        [0.20851441, 0.20851441, 0.41702883, ..., 0.        , 0.        ,\n",
       "         0.        ]]),\n",
       " 'Y26': array([0., 0., 0., ..., 0., 0., 0.]),\n",
       " 'X27': array([[0.        , 0.        , 0.        , ..., 0.        , 0.41239305,\n",
       "         0.08247861],\n",
       "        [0.375     , 0.375     , 0.125     , ..., 0.        , 0.        ,\n",
       "         0.25      ],\n",
       "        [0.        , 0.        , 0.        , ..., 0.14433757, 0.14433757,\n",
       "         0.        ],\n",
       "        ...,\n",
       "        [0.        , 0.        , 0.        , ..., 0.        , 0.        ,\n",
       "         0.        ],\n",
       "        [0.        , 0.28734789, 0.        , ..., 0.        , 0.09578263,\n",
       "         0.        ],\n",
       "        [0.26607604, 0.        , 0.06651901, ..., 0.06651901, 0.06651901,\n",
       "         0.        ]]),\n",
       " 'Y27': array([0., 0., 0., ..., 0., 0., 0.]),\n",
       " 'X28': array([[0.        , 0.19069252, 0.        , ..., 0.        , 0.09534626,\n",
       "         0.        ],\n",
       "        [0.11470787, 0.        , 0.11470787, ..., 0.        , 0.        ,\n",
       "         0.        ],\n",
       "        [0.28347335, 0.        , 0.09449112, ..., 0.        , 0.        ,\n",
       "         0.18898224],\n",
       "        ...,\n",
       "        [0.        , 0.18898224, 0.18898224, ..., 0.        , 0.        ,\n",
       "         0.        ],\n",
       "        [0.        , 0.        , 0.        , ..., 0.        , 0.        ,\n",
       "         0.        ],\n",
       "        [0.21821789, 0.21821789, 0.        , ..., 0.14547859, 0.14547859,\n",
       "         0.        ]]),\n",
       " 'Y28': array([0., 0., 0., ..., 0., 0., 0.]),\n",
       " 'X29': array([[0.09053575, 0.        , 0.09053575, ..., 0.        , 0.        ,\n",
       "         0.        ],\n",
       "        [0.27050089, 0.27050089, 0.45083482, ..., 0.        , 0.09016696,\n",
       "         0.27050089],\n",
       "        [0.07495317, 0.        , 0.07495317, ..., 0.14990634, 0.07495317,\n",
       "         0.14990634],\n",
       "        ...,\n",
       "        [0.1490712 , 0.        , 0.1490712 , ..., 0.        , 0.1490712 ,\n",
       "         0.1490712 ],\n",
       "        [0.        , 0.        , 0.36380344, ..., 0.        , 0.24253563,\n",
       "         0.        ],\n",
       "        [0.22645541, 0.1132277 , 0.1132277 , ..., 0.        , 0.1132277 ,\n",
       "         0.        ]]),\n",
       " 'Y29': array([0., 0., 0., ..., 0., 0., 0.]),\n",
       " 'X30': array([[0.13245324, 0.26490647, 0.13245324, ..., 0.        , 0.        ,\n",
       "         0.        ],\n",
       "        [0.15861032, 0.        , 0.07930516, ..., 0.23791548, 0.        ,\n",
       "         0.23791548],\n",
       "        [0.10050378, 0.        , 0.        , ..., 0.20100756, 0.10050378,\n",
       "         0.10050378],\n",
       "        ...,\n",
       "        [0.        , 0.        , 0.16903085, ..., 0.        , 0.        ,\n",
       "         0.        ],\n",
       "        [0.        , 0.        , 0.14002801, ..., 0.14002801, 0.        ,\n",
       "         0.42008403],\n",
       "        [0.07106691, 0.        , 0.07106691, ..., 0.        , 0.07106691,\n",
       "         0.14213381]]),\n",
       " 'Y30': array([0., 0., 0., ..., 0., 0., 0.]),\n",
       " 'X31': array([[0.21854335, 0.05463584, 0.16390751, ..., 0.16390751, 0.16390751,\n",
       "         0.05463584],\n",
       "        [0.08543577, 0.        , 0.        , ..., 0.        , 0.08543577,\n",
       "         0.17087153],\n",
       "        [0.        , 0.10153462, 0.10153462, ..., 0.        , 0.        ,\n",
       "         0.        ],\n",
       "        ...,\n",
       "        [0.        , 0.        , 0.        , ..., 0.10206207, 0.        ,\n",
       "         0.20412415],\n",
       "        [0.        , 0.24019223, 0.24019223, ..., 0.08006408, 0.        ,\n",
       "         0.        ],\n",
       "        [0.10482848, 0.        , 0.10482848, ..., 0.        , 0.31448545,\n",
       "         0.10482848]]),\n",
       " 'Y31': array([0., 0., 0., ..., 0., 0., 0.]),\n",
       " 'X32': array([[0.20100756, 0.10050378, 0.10050378, ..., 0.10050378, 0.20100756,\n",
       "         0.10050378],\n",
       "        [0.17407766, 0.08703883, 0.08703883, ..., 0.17407766, 0.17407766,\n",
       "         0.17407766],\n",
       "        [0.19245009, 0.28867513, 0.09622504, ..., 0.09622504, 0.        ,\n",
       "         0.19245009],\n",
       "        ...,\n",
       "        [0.        , 0.        , 0.33968311, ..., 0.        , 0.1132277 ,\n",
       "         0.        ],\n",
       "        [0.22941573, 0.11470787, 0.22941573, ..., 0.        , 0.11470787,\n",
       "         0.        ],\n",
       "        [0.28355248, 0.        , 0.07088812, ..., 0.28355248, 0.28355248,\n",
       "         0.21266436]]),\n",
       " 'Y32': array([0., 0., 0., ..., 0., 0., 0.])}"
      ]
     },
     "execution_count": 32,
     "metadata": {},
     "output_type": "execute_result"
    }
   ],
   "source": [
    "negateive"
   ]
  },
  {
   "cell_type": "code",
   "execution_count": 33,
   "metadata": {},
   "outputs": [],
   "source": [
    "def compute_models(negateive,X1,Y1):\n",
    "    from sklearn.model_selection import train_test_split\n",
    "    outputs={'SVM_accuracy':[],'SVM_cm':[],'SVM_models':[],'SVM_pred':[],\n",
    "             'RF_accuracy':[],'RF_cm':[],'RF_models':[],'RF_pred':[],\n",
    "             'NN_accuracy':[],'NN_cm':[],'NN_models':[],'NN_pred':[],\n",
    "             'y_test':[]}\n",
    "    X_train_1, X_test_1, y_train_1, y_test_1 = train_test_split(X1, Y1, test_size = 0.10, random_state = 0)\n",
    "    X_train_2, X_test_2, y_train_2, y_test_2 = train_test_split(negateive[f\"X{1}\"], negateive[f\"Y{1}\"], test_size = 0.10, random_state = 0) \n",
    "    X_test=np.append(X_test_1,X_test_2,axis=0)\n",
    "    y_test=np.append(y_test_1,y_test_2,axis=0)\n",
    "    outputs['y_test']=y_test\n",
    "    X_train=np.append(X_train_1,X_train_2,axis=0)\n",
    "    y_train=np.append(y_train_1,y_train_2,axis=0)\n",
    "    for j in range(1,int((len(negateive)/2)+1)):\n",
    "        \n",
    "        if j>1:    \n",
    "            X_train_2, X_test_2, y_train_2, y_test_2 = train_test_split(negateive[f\"X{j}\"], negateive[f\"Y{j}\"], test_size = 0.10, random_state = 0)\n",
    "        X_train=np.append(X_train_1,X_train_2,axis=0)\n",
    "        y_train=np.append(y_train_1,y_train_2,axis=0)\n",
    "        A=list(range(X_train.shape[0]))\n",
    "        np.random.shuffle(A)\n",
    "        X_train=X_train[A]\n",
    "        y_train=y_train[A]\n",
    "        \n",
    "        from sklearn.svm import SVC\n",
    "        classifier = SVC(kernel = 'rbf', random_state = 0,gamma=1)\n",
    "        classifier.fit(X_train, y_train)\n",
    "        from sklearn.metrics import confusion_matrix, accuracy_score\n",
    "        y_pred = classifier.predict(X_test)\n",
    "        cm = confusion_matrix(y_test, y_pred)\n",
    "        AC=accuracy_score(y_test, y_pred)\n",
    "        outputs['SVM_accuracy'].append(AC)\n",
    "        outputs['SVM_cm'].append(cm)\n",
    "        outputs['SVM_models'].append(classifier)\n",
    "        outputs['SVM_pred'].append(y_pred)\n",
    "        print('SVM',AC)\n",
    "        from sklearn.ensemble import RandomForestClassifier\n",
    "        randomclassifier = RandomForestClassifier(n_estimators = 50, criterion = 'entropy', random_state = 0)\n",
    "        randomclassifier.fit(X_train, y_train)\n",
    "\n",
    "        from sklearn.metrics import confusion_matrix, accuracy_score\n",
    "        y_pred = randomclassifier.predict(X_test)\n",
    "        cm = confusion_matrix(y_test, y_pred)\n",
    "        AC=accuracy_score(y_test, y_pred)\n",
    "        outputs['RF_accuracy'].append(AC)\n",
    "        outputs['RF_cm'].append(cm)\n",
    "        outputs['RF_models'].append(randomclassifier)\n",
    "        outputs['RF_pred'].append(y_pred)\n",
    "        print('RF',AC)\n",
    "        \n",
    "        import ForwardFeed as FF\n",
    "        NN=FF.NN(hidden_dims=(256,120),\n",
    "                 n_classes=2,\n",
    "                 epsilon=1e-6,\n",
    "                 lr=0.03,\n",
    "                 batch_size=10,\n",
    "                 seed=0,\n",
    "                 activation=\"relu\",\n",
    "                 init_method=\"glorot\")\n",
    "        train_logs=NN.train_loop(X_train=X_train,y_train=y_train, n_epochs=10)\n",
    "        loss,AC,y_pred=NN.evaluate(X_test,y_test)\n",
    "        cm = confusion_matrix(y_test, y_pred)\n",
    "        outputs['NN_accuracy'].append(AC)\n",
    "        outputs['NN_cm'].append(cm)\n",
    "        outputs['NN_models'].append(NN)\n",
    "        outputs['NN_pred'].append(y_pred)\n",
    "        print('NN',AC)\n",
    "        \n",
    "    return outputs"
   ]
  },
  {
   "cell_type": "code",
   "execution_count": 34,
   "metadata": {},
   "outputs": [
    {
     "name": "stdout",
     "output_type": "stream",
     "text": [
      "SVM 0.9278937381404174\n",
      "RF 0.9307400379506642\n",
      "NN 0.9155597722960152\n",
      "SVM 0.9335863377609108\n",
      "RF 0.9307400379506642\n",
      "NN 0.9193548387096774\n",
      "SVM 0.9307400379506642\n",
      "RF 0.9297912713472486\n",
      "NN 0.9222011385199241\n",
      "SVM 0.9316888045540797\n",
      "RF 0.9297912713472486\n",
      "NN 0.9117647058823529\n",
      "SVM 0.9326375711574952\n",
      "RF 0.9316888045540797\n",
      "NN 0.9146110056925996\n",
      "SVM 0.926944971537002\n",
      "RF 0.9278937381404174\n",
      "NN 0.9165085388994307\n",
      "SVM 0.928842504743833\n",
      "RF 0.9231499051233396\n",
      "NN 0.9240986717267552\n",
      "SVM 0.9316888045540797\n",
      "RF 0.9335863377609108\n",
      "NN 0.9231499051233396\n",
      "SVM 0.9335863377609108\n",
      "RF 0.9316888045540797\n",
      "NN 0.9212523719165086\n",
      "SVM 0.9307400379506642\n",
      "RF 0.937381404174573\n",
      "NN 0.9098671726755219\n",
      "SVM 0.928842504743833\n",
      "RF 0.9278937381404174\n",
      "NN 0.9184060721062619\n",
      "SVM 0.9259962049335864\n",
      "RF 0.9316888045540797\n",
      "NN 0.9146110056925996\n",
      "SVM 0.9250474383301708\n",
      "RF 0.9297912713472486\n",
      "NN 0.9165085388994307\n",
      "SVM 0.9316888045540797\n",
      "RF 0.9345351043643264\n",
      "NN 0.9222011385199241\n",
      "SVM 0.928842504743833\n",
      "RF 0.9297912713472486\n",
      "NN 0.9184060721062619\n",
      "SVM 0.9297912713472486\n",
      "RF 0.9335863377609108\n",
      "NN 0.920303605313093\n",
      "SVM 0.926944971537002\n",
      "RF 0.937381404174573\n",
      "NN 0.9184060721062619\n",
      "SVM 0.928842504743833\n",
      "RF 0.9345351043643264\n",
      "NN 0.9079696394686907\n",
      "SVM 0.9278937381404174\n",
      "RF 0.9326375711574952\n",
      "NN 0.920303605313093\n",
      "SVM 0.9335863377609108\n",
      "RF 0.9278937381404174\n",
      "NN 0.9136622390891841\n",
      "SVM 0.9259962049335864\n",
      "RF 0.926944971537002\n",
      "NN 0.920303605313093\n",
      "SVM 0.9307400379506642\n",
      "RF 0.9326375711574952\n",
      "NN 0.920303605313093\n",
      "SVM 0.9297912713472486\n",
      "RF 0.9354838709677419\n",
      "NN 0.9212523719165086\n",
      "SVM 0.9316888045540797\n",
      "RF 0.9345351043643264\n",
      "NN 0.9212523719165086\n",
      "SVM 0.9316888045540797\n",
      "RF 0.9259962049335864\n",
      "NN 0.9193548387096774\n",
      "SVM 0.9278937381404174\n",
      "RF 0.9335863377609108\n",
      "NN 0.9155597722960152\n",
      "SVM 0.9307400379506642\n",
      "RF 0.9345351043643264\n",
      "NN 0.9165085388994307\n",
      "SVM 0.9297912713472486\n",
      "RF 0.9316888045540797\n",
      "NN 0.9212523719165086\n",
      "SVM 0.9326375711574952\n",
      "RF 0.9345351043643264\n",
      "NN 0.9184060721062619\n",
      "SVM 0.9335863377609108\n",
      "RF 0.9354838709677419\n",
      "NN 0.9136622390891841\n",
      "SVM 0.9240986717267552\n",
      "RF 0.9335863377609108\n",
      "NN 0.9146110056925996\n",
      "SVM 0.9307400379506642\n",
      "RF 0.9297912713472486\n",
      "NN 0.9060721062618596\n"
     ]
    }
   ],
   "source": [
    "Models=compute_models(negateive,X1,Y1)"
   ]
  },
  {
   "cell_type": "code",
   "execution_count": 35,
   "metadata": {},
   "outputs": [
    {
     "name": "stdout",
     "output_type": "stream",
     "text": [
      "[[481  46]\n",
      " [ 25 502]] 0.9326375711574952\n"
     ]
    }
   ],
   "source": [
    "Pred=np.array(Models['SVM_pred']).T\n",
    "newpred=np.array([np.sum(Pred,axis=1)])/32\n",
    "aa=np.where(newpred<0.5,0,newpred)\n",
    "aa=np.where(aa>=0.5,1,aa)\n",
    "from sklearn.metrics import confusion_matrix, accuracy_score\n",
    "cm = confusion_matrix(Models['y_test'][:], aa[0])\n",
    "AC=accuracy_score(Models['y_test'][:], aa[0])\n",
    "print(cm,AC)"
   ]
  },
  {
   "cell_type": "code",
   "execution_count": 36,
   "metadata": {},
   "outputs": [
    {
     "data": {
      "text/plain": [
       "0.929850569259962"
      ]
     },
     "execution_count": 36,
     "metadata": {},
     "output_type": "execute_result"
    }
   ],
   "source": [
    "np.mean(Models['SVM_accuracy'])"
   ]
  },
  {
   "cell_type": "code",
   "execution_count": 37,
   "metadata": {},
   "outputs": [],
   "source": [
    "cm=np.array(Models['SVM_cm']).T"
   ]
  },
  {
   "cell_type": "code",
   "execution_count": 38,
   "metadata": {},
   "outputs": [
    {
     "data": {
      "text/plain": [
       "array([[479.28125,  47.71875],\n",
       "       [ 26.21875, 500.78125]])"
      ]
     },
     "execution_count": 38,
     "metadata": {},
     "output_type": "execute_result"
    }
   ],
   "source": [
    "cm.mean(axis=2).T"
   ]
  },
  {
   "cell_type": "code",
   "execution_count": 39,
   "metadata": {},
   "outputs": [
    {
     "name": "stdout",
     "output_type": "stream",
     "text": [
      "[[489  38]\n",
      " [ 29 498]] 0.9364326375711575\n"
     ]
    }
   ],
   "source": [
    "Pred=np.array(Models['RF_pred']).T\n",
    "newpred=np.array([np.sum(Pred,axis=1)])/32\n",
    "aa=np.where(newpred<0.5,0,newpred)\n",
    "aa=np.where(aa>=0.5,1,aa)\n",
    "from sklearn.metrics import confusion_matrix, accuracy_score\n",
    "cm = confusion_matrix(Models['y_test'][:], aa[0])\n",
    "AC=accuracy_score(Models['y_test'][:], aa[0])\n",
    "print(cm,AC)"
   ]
  },
  {
   "cell_type": "code",
   "execution_count": 40,
   "metadata": {},
   "outputs": [
    {
     "data": {
      "text/plain": [
       "0.9317184535104364"
      ]
     },
     "execution_count": 40,
     "metadata": {},
     "output_type": "execute_result"
    }
   ],
   "source": [
    "np.mean(Models['RF_accuracy'])"
   ]
  },
  {
   "cell_type": "code",
   "execution_count": 41,
   "metadata": {},
   "outputs": [],
   "source": [
    "cm=np.array(Models['RF_cm']).T"
   ]
  },
  {
   "cell_type": "code",
   "execution_count": 42,
   "metadata": {},
   "outputs": [
    {
     "data": {
      "text/plain": [
       "array([[488.21875,  38.78125],\n",
       "       [ 33.1875 , 493.8125 ]])"
      ]
     },
     "execution_count": 42,
     "metadata": {},
     "output_type": "execute_result"
    }
   ],
   "source": [
    "cm.mean(axis=2).T"
   ]
  },
  {
   "cell_type": "code",
   "execution_count": 43,
   "metadata": {},
   "outputs": [
    {
     "name": "stdout",
     "output_type": "stream",
     "text": [
      "[[472  55]\n",
      " [ 30 497]] 0.9193548387096774\n"
     ]
    }
   ],
   "source": [
    "Pred=np.array(Models['NN_pred']).T\n",
    "newpred=np.array([np.sum(Pred,axis=1)])/32\n",
    "aa=np.where(newpred<0.5,0,newpred)\n",
    "aa=np.where(aa>=0.5,1,aa)\n",
    "from sklearn.metrics import confusion_matrix, accuracy_score\n",
    "cm = confusion_matrix(Models['y_test'][:], aa[0])\n",
    "AC=accuracy_score(Models['y_test'][:], aa[0])\n",
    "print(cm,AC)"
   ]
  },
  {
   "cell_type": "code",
   "execution_count": 44,
   "metadata": {},
   "outputs": [
    {
     "data": {
      "text/plain": [
       "0.9174276565464896"
      ]
     },
     "execution_count": 44,
     "metadata": {},
     "output_type": "execute_result"
    }
   ],
   "source": [
    "np.mean(Models['NN_accuracy'])"
   ]
  },
  {
   "cell_type": "code",
   "execution_count": 45,
   "metadata": {},
   "outputs": [],
   "source": [
    "cm=np.array(Models['NN_cm']).T"
   ]
  },
  {
   "cell_type": "code",
   "execution_count": 46,
   "metadata": {},
   "outputs": [
    {
     "data": {
      "text/plain": [
       "array([[472.96875,  54.03125],\n",
       "       [ 33.     , 494.     ]])"
      ]
     },
     "execution_count": 46,
     "metadata": {},
     "output_type": "execute_result"
    }
   ],
   "source": [
    "cm.mean(axis=2).T"
   ]
  },
  {
   "cell_type": "code",
   "execution_count": null,
   "metadata": {},
   "outputs": [],
   "source": []
  },
  {
   "cell_type": "code",
   "execution_count": null,
   "metadata": {},
   "outputs": [],
   "source": []
  }
 ],
 "metadata": {
  "colab": {
   "collapsed_sections": [],
   "name": "IFT6390 Final Project.ipynb",
   "provenance": [],
   "toc_visible": true
  },
  "kernelspec": {
   "display_name": "Python 3",
   "language": "python",
   "name": "python3"
  },
  "language_info": {
   "codemirror_mode": {
    "name": "ipython",
    "version": 3
   },
   "file_extension": ".py",
   "mimetype": "text/x-python",
   "name": "python",
   "nbconvert_exporter": "python",
   "pygments_lexer": "ipython3",
   "version": "3.7.9"
  }
 },
 "nbformat": 4,
 "nbformat_minor": 1
}
